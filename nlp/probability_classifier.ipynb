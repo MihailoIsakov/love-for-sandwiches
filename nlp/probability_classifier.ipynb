{
 "cells": [
  {
   "cell_type": "code",
   "execution_count": 79,
   "metadata": {
    "collapsed": false
   },
   "outputs": [],
   "source": [
    "%matplotlib inline\n",
    "import os"
   ]
  },
  {
   "cell_type": "code",
   "execution_count": 80,
   "metadata": {
    "collapsed": false
   },
   "outputs": [],
   "source": [
    "# Load the dataset\n",
    "originals = open('dataset/lns_comments.txt', 'r').readlines()\n",
    "corpus = open('dataset/lns_stemmed.txt', 'r').readlines()\n",
    "labels = open('dataset/lns_labels.txt', 'r').readlines()\n",
    "labels = [int(float(x)) for x in labels]"
   ]
  },
  {
   "cell_type": "code",
   "execution_count": 81,
   "metadata": {
    "collapsed": false
   },
   "outputs": [
    {
     "name": "stdout",
     "output_type": "stream",
     "text": [
      "Cyrillic comments make up 1.24624624625 percent\n",
      "Cyrillic comments make up 1.24643339841 percent\n"
     ]
    }
   ],
   "source": [
    "import bald_latin\n",
    "\n",
    "corpus, labels = bald_latin.remove_cyrillic_comments(corpus, labels)\n",
    "originals, _ = bald_latin.remove_cyrillic_comments(originals, range(len(originals)))\n",
    "corpus = bald_latin.remove_serbian_accents(corpus)"
   ]
  },
  {
   "cell_type": "code",
   "execution_count": 82,
   "metadata": {
    "collapsed": false
   },
   "outputs": [],
   "source": [
    "from sklearn.feature_extraction.text import CountVectorizer, TfidfTransformer, TfidfVectorizer\n",
    "from sklearn.metrics.pairwise import linear_kernel\n",
    "\n",
    "croatian_stop_words = set([u\"a\",u\"ako\",u\"ali\",u\"bi\",u\"bih\",u\"bila\",u\"bili\",u\"bilo\",u\"bio\",u\"bismo\",u\"biste\",u\"biti\",u\"bumo\",u\"da\",u\"do\",u\"duž\",u\"ga\",u\"hoće\",u\"hoćemo\",u\"hoćete\",u\"hoćeš\",u\"hoću\",u\"i\",u\"iako\",u\"ih\",u\"ili\",u\"iz\",u\"ja\",u\"je\",u\"jedna\",u\"jedne\",u\"jedno\",u\"jer\",u\"jesam\",u\"jesi\",u\"jesmo\",u\"jest\",u\"jeste\",u\"jesu\",u\"jim\",u\"joj\",u\"još\",u\"ju\",u\"kada\",u\"kako\",u\"kao\",u\"koja\",u\"koje\",u\"koji\",u\"kojima\",u\"koju\",u\"kroz\",u\"li\",u\"me\",u\"mene\",u\"meni\",u\"mi\",u\"mimo\",u\"moj\",u\"moja\",u\"moje\",u\"mu\",u\"na\",u\"nad\",u\"nakon\",u\"nam\",u\"nama\",u\"nas\",u\"naš\",u\"naša\",u\"naše\",u\"našeg\",u\"ne\",u\"nego\",u\"neka\",u\"neki\",u\"nekog\",u\"neku\",u\"nema\",u\"netko\",u\"neće\",u\"nećemo\",u\"nećete\",u\"nećeš\",u\"neću\",u\"nešto\",u\"ni\",u\"nije\",u\"nikoga\",u\"nikoje\",u\"nikoju\",u\"nisam\",u\"nisi\",u\"nismo\",u\"niste\",u\"nisu\",u\"njega\",u\"njegov\",u\"njegova\",u\"njegovo\",u\"njemu\",u\"njezin\",u\"njezina\",u\"njezino\",u\"njih\",u\"njihov\",u\"njihova\",u\"njihovo\",u\"njim\",u\"njima\",u\"njoj\",u\"nju\",u\"no\",u\"o\",u\"od\",u\"odmah\",u\"on\",u\"ona\",u\"oni\",u\"ono\",u\"ova\",u\"pa\",u\"pak\",u\"po\",u\"pod\",u\"pored\",u\"prije\",u\"s\",u\"sa\",u\"sam\",u\"samo\",u\"se\",u\"sebe\",u\"sebi\",u\"si\",u\"smo\",u\"ste\",u\"su\",u\"sve\",u\"svi\",u\"svog\",u\"svoj\",u\"svoja\",u\"svoje\",u\"svom\",u\"ta\",u\"tada\",u\"taj\",u\"tako\",u\"te\",u\"tebe\",u\"tebi\",u\"ti\",u\"to\",u\"toj\",u\"tome\",u\"tu\",u\"tvoj\",u\"tvoja\",u\"tvoje\",u\"u\",u\"uz\",u\"vam\",u\"vama\",u\"vas\",u\"vaš\",u\"vaša\",u\"vaše\",u\"već\",u\"vi\",u\"vrlo\",u\"za\",u\"zar\",u\"će\",u\"ćemo\",u\"ćete\",u\"ćeš\",u\"ću\",u\"što\"])\n",
    "\n",
    "\n",
    "vectorizer = TfidfVectorizer(\n",
    "    strip_accents=\"unicode\",\n",
    "    lowercase=True,\n",
    "    ngram_range=(1,2),\n",
    "    min_df=2,\n",
    "    norm='l2',\n",
    "    smooth_idf=True,\n",
    "    use_idf=True,\n",
    "    stop_words=croatian_stop_words)\n",
    "\n",
    "X = vectorizer.fit_transform(corpus)"
   ]
  },
  {
   "cell_type": "code",
   "execution_count": 83,
   "metadata": {
    "collapsed": false
   },
   "outputs": [],
   "source": [
    "import numpy as np\n",
    "from sklearn.neighbors import NearestNeighbors\n",
    "\n",
    "distance = (X * X.T).todense()\n",
    "distance = distance.A"
   ]
  },
  {
   "cell_type": "code",
   "execution_count": 178,
   "metadata": {
    "collapsed": false
   },
   "outputs": [],
   "source": [
    "from sklearn.neighbors import KNeighborsClassifier\n",
    "neigh = KNeighborsClassifier(n_neighbors=20,algorithm='brute', metric='cosine')\n",
    "mv = 5000\n",
    "neigh.fit(X[:mv], labels[:mv])\n",
    "proba = neigh.predict_proba(X[mv:])"
   ]
  },
  {
   "cell_type": "code",
   "execution_count": 7,
   "metadata": {
    "collapsed": false
   },
   "outputs": [
    {
     "name": "stdout",
     "output_type": "stream",
     "text": [
      "636 69 10.8490566038%\n"
     ]
    }
   ],
   "source": [
    "def knn_classify(distance, labels, k=20):\n",
    "    classes = []\n",
    "    for idx, row in enumerate(distance):\n",
    "        knbrs = np.argsort(row)[-2:-2-k:-1]\n",
    "        \n",
    "        label = 0\n",
    "        for nbr in knbrs: \n",
    "            label += labels[nbr]\n",
    "            \n",
    "        classes.append(label/len(knbrs))\n",
    "        \n",
    "    return classes\n",
    "\n",
    "predictions = knn_classify(distance, labels)\n",
    "\n",
    "concensus = 0.85\n",
    "error = 0\n",
    "count = 0\n",
    "for label, pred in zip(labels, predictions):\n",
    "    if pred >= concensus or pred <= 1 - concensus:\n",
    "        count += 1\n",
    "        if np.round(pred) != label:\n",
    "            error += 1\n",
    "        \n",
    "    else:\n",
    "        continue\n",
    "\n",
    "print count, error, str(error / (count + 0.0) * 100) + \"%\""
   ]
  },
  {
   "cell_type": "code",
   "execution_count": 113,
   "metadata": {
    "collapsed": false
   },
   "outputs": [],
   "source": [
    "from sklearn.naive_bayes import MultinomialNB\n",
    "\n",
    "mv = 5000\n",
    "\n",
    "clf = MultinomialNB().fit(X[:mv], np.array(labels[:mv], np.uint8))\n",
    "\n",
    "pr = clf.predict(X[mv:])\n",
    "proba = clf.predict_proba(X[mv:])\n"
   ]
  },
  {
   "cell_type": "code",
   "execution_count": 10,
   "metadata": {
    "collapsed": false
   },
   "outputs": [
    {
     "name": "stdout",
     "output_type": "stream",
     "text": [
      "[0 0 1 ..., 1 0 1]\n"
     ]
    },
    {
     "data": {
      "text/plain": [
       "0.70050761421319796"
      ]
     },
     "execution_count": 10,
     "metadata": {},
     "output_type": "execute_result"
    }
   ],
   "source": [
    "from sklearn.linear_model import SGDClassifier\n",
    "\n",
    "sgd = SGDClassifier(penalty='l1', alpha=1e-4, n_iter=20, random_state=210)\n",
    "sgd.fit(X[:mv], np.array(labels[:mv], np.uint8))\n",
    "pr = sgd.predict(X[mv:])\n",
    "print pr\n",
    "\n",
    "np.mean(np.array(labels[mv:], np.uint8) == pr)"
   ]
  },
  {
   "cell_type": "code",
   "execution_count": 299,
   "metadata": {
    "collapsed": false
   },
   "outputs": [],
   "source": [
    "\n",
    "from sklearn.svm import SVR\n",
    "svr_rbf = SVR(kernel='rbf', C=1e3, gamma=0.1)\n",
    "svr_rbf.fit(X[:mv], np.array(labels[:mv], np.uint8))\n",
    "pr = svr_rbf.predict(X[mv:])\n"
   ]
  },
  {
   "cell_type": "code",
   "execution_count": 303,
   "metadata": {
    "collapsed": false
   },
   "outputs": [
    {
     "name": "stdout",
     "output_type": "stream",
     "text": [
      "[ 0.36987503  0.07626233  0.58753726 ...,  1.24794644 -0.13420733\n",
      "  0.59776429]\n",
      "232 42\n"
     ]
    }
   ],
   "source": [
    "print pr\n",
    "\n",
    "sum = 0\n",
    "count = 0\n",
    "for p, l in zip(pr, labels[mv:]): \n",
    "    if p <= 0.0 or p >= 1:\n",
    "        count += 1\n",
    "        if round(p) != round(l):\n",
    "            sum += 1\n",
    "            \n",
    "print count, sum"
   ]
  }
 ],
 "metadata": {
  "kernelspec": {
   "display_name": "Python 2",
   "language": "python",
   "name": "python2"
  },
  "language_info": {
   "codemirror_mode": {
    "name": "ipython",
    "version": 2
   },
   "file_extension": ".py",
   "mimetype": "text/x-python",
   "name": "python",
   "nbconvert_exporter": "python",
   "pygments_lexer": "ipython2",
   "version": "2.7.6"
  }
 },
 "nbformat": 4,
 "nbformat_minor": 0
}
