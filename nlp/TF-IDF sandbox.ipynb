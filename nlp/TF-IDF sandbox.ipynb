{
 "cells": [
  {
   "cell_type": "code",
   "execution_count": 1,
   "metadata": {
    "collapsed": false
   },
   "outputs": [],
   "source": [
    "%matplotlib inline\n",
    "import os\n",
    "from pymongo import MongoClient"
   ]
  },
  {
   "cell_type": "markdown",
   "metadata": {},
   "source": [
    "If dataset/comments.txt doesn't exist, pull the comments from the database."
   ]
  },
  {
   "cell_type": "code",
   "execution_count": 2,
   "metadata": {
    "collapsed": false
   },
   "outputs": [],
   "source": [
    "if not os.path.isfile('dataset/comments.txt'):\n",
    "    client = MongoClient()\n",
    "    scrape = client.scrape\n",
    "\n",
    "    f = open(\"dataset/comments.txt\", \"w\")\n",
    "\n",
    "    # print the comments to a file, separated with \\n, \n",
    "    # so we can use the croatian stemmer on them\n",
    "    for comment in scrape.blic.find():\n",
    "        text = comment['comment']\n",
    "        text.replace('\\n', ' ')\n",
    "        text += '\\n'\n",
    "        f.write(text.encode('utf8'))\n",
    "\n",
    "    f.close()"
   ]
  },
  {
   "cell_type": "code",
   "execution_count": 33,
   "metadata": {
    "collapsed": false
   },
   "outputs": [
    {
     "name": "stdout",
     "output_type": "stream",
     "text": [
      "Cyrillic comments make up 1.43 percent\n"
     ]
    }
   ],
   "source": [
    "cyrillic = set(u\"АаБбВвГгДдЂђЕеЖжЗзИиЈјКкЛлЉљМмНнЊњОоПпРрСсТтЋћУуФфХхЦцЧчЏџШш\")\n",
    "def remove_cyrillic_comments(comments, print_perc=True):\n",
    "    cyrillic_count = 0.0; all_count = len(comments)\n",
    "    clean_coms = []\n",
    "    \n",
    "    for comment in comments:\n",
    "        if not bool(set(comment.decode('utf8')).intersection(cyrillic)):\n",
    "            clean_coms.append(comment)\n",
    "        else:\n",
    "            cyrillic_count += 1\n",
    "        \n",
    "    if print_perc:\n",
    "        print \"Cyrillic comments make up %s percent\" % (cyrillic_count / all_count * 100)\n",
    "    return clean_coms\n",
    "\n",
    "corpus = open('dataset/comments.txt', 'r').readlines()[:10**4]\n",
    "corpus = remove_cyrillic_comments(corpus)\n",
    "\n"
   ]
  },
  {
   "cell_type": "code",
   "execution_count": 7,
   "metadata": {
    "collapsed": false
   },
   "outputs": [
    {
     "data": {
      "text/plain": [
       "<100000x34414 sparse matrix of type '<type 'numpy.float64'>'\n",
       "\twith 1004646 stored elements in Compressed Sparse Row format>"
      ]
     },
     "execution_count": 7,
     "metadata": {},
     "output_type": "execute_result"
    }
   ],
   "source": [
    "from sklearn.feature_extraction.text import CountVectorizer, TfidfTransformer, TfidfVectorizer\n",
    "from sklearn.metrics.pairwise import linear_kernel\n",
    "\n",
    "croatian_stop_words = set([u\"a\",u\"ako\",u\"ali\",u\"bi\",u\"bih\",u\"bila\",u\"bili\",u\"bilo\",u\"bio\",u\"bismo\",u\"biste\",u\"biti\",u\"bumo\",u\"da\",u\"do\",u\"duž\",u\"ga\",u\"hoće\",u\"hoćemo\",u\"hoćete\",u\"hoćeš\",u\"hoću\",u\"i\",u\"iako\",u\"ih\",u\"ili\",u\"iz\",u\"ja\",u\"je\",u\"jedna\",u\"jedne\",u\"jedno\",u\"jer\",u\"jesam\",u\"jesi\",u\"jesmo\",u\"jest\",u\"jeste\",u\"jesu\",u\"jim\",u\"joj\",u\"još\",u\"ju\",u\"kada\",u\"kako\",u\"kao\",u\"koja\",u\"koje\",u\"koji\",u\"kojima\",u\"koju\",u\"kroz\",u\"li\",u\"me\",u\"mene\",u\"meni\",u\"mi\",u\"mimo\",u\"moj\",u\"moja\",u\"moje\",u\"mu\",u\"na\",u\"nad\",u\"nakon\",u\"nam\",u\"nama\",u\"nas\",u\"naš\",u\"naša\",u\"naše\",u\"našeg\",u\"ne\",u\"nego\",u\"neka\",u\"neki\",u\"nekog\",u\"neku\",u\"nema\",u\"netko\",u\"neće\",u\"nećemo\",u\"nećete\",u\"nećeš\",u\"neću\",u\"nešto\",u\"ni\",u\"nije\",u\"nikoga\",u\"nikoje\",u\"nikoju\",u\"nisam\",u\"nisi\",u\"nismo\",u\"niste\",u\"nisu\",u\"njega\",u\"njegov\",u\"njegova\",u\"njegovo\",u\"njemu\",u\"njezin\",u\"njezina\",u\"njezino\",u\"njih\",u\"njihov\",u\"njihova\",u\"njihovo\",u\"njim\",u\"njima\",u\"njoj\",u\"nju\",u\"no\",u\"o\",u\"od\",u\"odmah\",u\"on\",u\"ona\",u\"oni\",u\"ono\",u\"ova\",u\"pa\",u\"pak\",u\"po\",u\"pod\",u\"pored\",u\"prije\",u\"s\",u\"sa\",u\"sam\",u\"samo\",u\"se\",u\"sebe\",u\"sebi\",u\"si\",u\"smo\",u\"ste\",u\"su\",u\"sve\",u\"svi\",u\"svog\",u\"svoj\",u\"svoja\",u\"svoje\",u\"svom\",u\"ta\",u\"tada\",u\"taj\",u\"tako\",u\"te\",u\"tebe\",u\"tebi\",u\"ti\",u\"to\",u\"toj\",u\"tome\",u\"tu\",u\"tvoj\",u\"tvoja\",u\"tvoje\",u\"u\",u\"uz\",u\"vam\",u\"vama\",u\"vas\",u\"vaš\",u\"vaša\",u\"vaše\",u\"već\",u\"vi\",u\"vrlo\",u\"za\",u\"zar\",u\"će\",u\"ćemo\",u\"ćete\",u\"ćeš\",u\"ću\",u\"što\"])\n",
    "\n",
    "vectorizer = TfidfVectorizer(\n",
    "    strip_accents=\"unicode\",\n",
    "    lowercase=True,\n",
    "    ngram_range=(1,2),\n",
    "    min_df=5,\n",
    "    norm='l2',\n",
    "    smooth_idf=True,\n",
    "    use_idf=True,\n",
    "    stop_words=croatian_stop_words)\n",
    "\n",
    "vectorizer.fit_transform(corpus)\n",
    "\n"
   ]
  },
  {
   "cell_type": "code",
   "execution_count": 22,
   "metadata": {
    "collapsed": false
   },
   "outputs": [],
   "source": [
    "import numpy as np\n",
    "popularity_ind = np.argsort(vectorizer.vocabulary_.values())"
   ]
  },
  {
   "cell_type": "code",
   "execution_count": null,
   "metadata": {
    "collapsed": true
   },
   "outputs": [],
   "source": []
  }
 ],
 "metadata": {
  "kernelspec": {
   "display_name": "Python 2",
   "language": "python",
   "name": "python2"
  },
  "language_info": {
   "codemirror_mode": {
    "name": "ipython",
    "version": 2
   },
   "file_extension": ".py",
   "mimetype": "text/x-python",
   "name": "python",
   "nbconvert_exporter": "python",
   "pygments_lexer": "ipython2",
   "version": "2.7.6"
  }
 },
 "nbformat": 4,
 "nbformat_minor": 0
}
