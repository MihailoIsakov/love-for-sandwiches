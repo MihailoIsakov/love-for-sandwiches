{
 "cells": [
  {
   "cell_type": "code",
   "execution_count": 1,
   "metadata": {
    "collapsed": false
   },
   "outputs": [],
   "source": [
    "%matplotlib inline\n",
    "from pymongo import MongoClient"
   ]
  },
  {
   "cell_type": "code",
   "execution_count": 7,
   "metadata": {
    "collapsed": false
   },
   "outputs": [],
   "source": [
    "# client = MongoClient()\n",
    "# scrape = client.scrape\n",
    "\n",
    "# f = open(\"comments.txt\", \"w\")\n",
    "\n",
    "# # print the comments to a file, separated with \\n, \n",
    "# # so we can use the croatian stemmer on them\n",
    "# for comment in scrape.blic.find():\n",
    "#     # add a Ω symbol at the end of every comment as the stemmer massacres the punctuation.\n",
    "#     text = comment['comment'] + u\" Ω\\n\"\n",
    "#     f.write(text.encode('utf8'))\n",
    "    \n",
    "# f.close()\n"
   ]
  },
  {
   "cell_type": "code",
   "execution_count": 37,
   "metadata": {
    "collapsed": false
   },
   "outputs": [],
   "source": [
    "from sklearn.feature_extraction.text import CountVectorizer, TfidfTransformer, TfidfVectorizer\n",
    "from sklearn.metrics.pairwise import linear_kernel\n",
    "\n",
    "corpus = [comment['comment'] for comment in all_comments ]\n",
    "corpus.remove(None)\n",
    "corpus.remove(None)\n",
    "# corpus = set(corpus)\n",
    "    \n",
    "croatian_stop_words = set([u\"a\",u\"ako\",u\"ali\",u\"bi\",u\"bih\",u\"bila\",u\"bili\",u\"bilo\",u\"bio\",u\"bismo\",u\"biste\",u\"biti\",u\"bumo\",u\"da\",u\"do\",u\"duž\",u\"ga\",u\"hoće\",u\"hoćemo\",u\"hoćete\",u\"hoćeš\",u\"hoću\",u\"i\",u\"iako\",u\"ih\",u\"ili\",u\"iz\",u\"ja\",u\"je\",u\"jedna\",u\"jedne\",u\"jedno\",u\"jer\",u\"jesam\",u\"jesi\",u\"jesmo\",u\"jest\",u\"jeste\",u\"jesu\",u\"jim\",u\"joj\",u\"još\",u\"ju\",u\"kada\",u\"kako\",u\"kao\",u\"koja\",u\"koje\",u\"koji\",u\"kojima\",u\"koju\",u\"kroz\",u\"li\",u\"me\",u\"mene\",u\"meni\",u\"mi\",u\"mimo\",u\"moj\",u\"moja\",u\"moje\",u\"mu\",u\"na\",u\"nad\",u\"nakon\",u\"nam\",u\"nama\",u\"nas\",u\"naš\",u\"naša\",u\"naše\",u\"našeg\",u\"ne\",u\"nego\",u\"neka\",u\"neki\",u\"nekog\",u\"neku\",u\"nema\",u\"netko\",u\"neće\",u\"nećemo\",u\"nećete\",u\"nećeš\",u\"neću\",u\"nešto\",u\"ni\",u\"nije\",u\"nikoga\",u\"nikoje\",u\"nikoju\",u\"nisam\",u\"nisi\",u\"nismo\",u\"niste\",u\"nisu\",u\"njega\",u\"njegov\",u\"njegova\",u\"njegovo\",u\"njemu\",u\"njezin\",u\"njezina\",u\"njezino\",u\"njih\",u\"njihov\",u\"njihova\",u\"njihovo\",u\"njim\",u\"njima\",u\"njoj\",u\"nju\",u\"no\",u\"o\",u\"od\",u\"odmah\",u\"on\",u\"ona\",u\"oni\",u\"ono\",u\"ova\",u\"pa\",u\"pak\",u\"po\",u\"pod\",u\"pored\",u\"prije\",u\"s\",u\"sa\",u\"sam\",u\"samo\",u\"se\",u\"sebe\",u\"sebi\",u\"si\",u\"smo\",u\"ste\",u\"su\",u\"sve\",u\"svi\",u\"svog\",u\"svoj\",u\"svoja\",u\"svoje\",u\"svom\",u\"ta\",u\"tada\",u\"taj\",u\"tako\",u\"te\",u\"tebe\",u\"tebi\",u\"ti\",u\"to\",u\"toj\",u\"tome\",u\"tu\",u\"tvoj\",u\"tvoja\",u\"tvoje\",u\"u\",u\"uz\",u\"vam\",u\"vama\",u\"vas\",u\"vaš\",u\"vaša\",u\"vaše\",u\"već\",u\"vi\",u\"vrlo\",u\"za\",u\"zar\",u\"će\",u\"ćemo\",u\"ćete\",u\"ćeš\",u\"ću\",u\"što\"])\n",
    "\n",
    "tfidf = TfidfVectorizer(\n",
    "    strip_accents=\"unicode\",\n",
    "    stop_words=croatian_stop_words).fit_transform(corpus)\n",
    "\n",
    "tfidf.\n"
   ]
  },
  {
   "cell_type": "code",
   "execution_count": null,
   "metadata": {
    "collapsed": true
   },
   "outputs": [],
   "source": []
  }
 ],
 "metadata": {
  "kernelspec": {
   "display_name": "Python 2",
   "language": "python",
   "name": "python2"
  },
  "language_info": {
   "codemirror_mode": {
    "name": "ipython",
    "version": 2
   },
   "file_extension": ".py",
   "mimetype": "text/x-python",
   "name": "python",
   "nbconvert_exporter": "python",
   "pygments_lexer": "ipython2",
   "version": "2.7.6"
  }
 },
 "nbformat": 4,
 "nbformat_minor": 0
}
