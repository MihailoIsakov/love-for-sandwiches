{
 "cells": [
  {
   "cell_type": "code",
   "execution_count": 7,
   "metadata": {
    "collapsed": true
   },
   "outputs": [],
   "source": [
    "import os\n",
    "\n",
    "import numpy as np\n",
    "from sklearn.cross_validation import KFold\n",
    "from sklearn.naive_bayes import MultinomialNB\n",
    "from sklearn.feature_extraction.text import TfidfVectorizer\n",
    "\n",
    "import bald_latin"
   ]
  },
  {
   "cell_type": "markdown",
   "metadata": {},
   "source": [
    "### Load the original and stemmed comments, and their labels.\n",
    "Remove the cyrillic comments and remove accents from ć,č,ž,š,đ."
   ]
  },
  {
   "cell_type": "code",
   "execution_count": 2,
   "metadata": {
    "collapsed": false
   },
   "outputs": [
    {
     "name": "stdout",
     "output_type": "stream",
     "text": [
      "Cyrillic comments make up 1.24624624625 percent\n",
      "Cyrillic comments make up 1.24643339841 percent\n"
     ]
    }
   ],
   "source": [
    "originals = open('dataset/lns_comments.txt', 'r').readlines()\n",
    "corpus = open('dataset/lns_stemmed.txt', 'r').readlines()\n",
    "labels = open('dataset/lns_labels.txt', 'r').readlines()\n",
    "\n",
    "# remove cyrillic and balden text\n",
    "corpus, labels = bald_latin.remove_cyrillic_comments(corpus, labels)\n",
    "originals, _ = bald_latin.remove_cyrillic_comments(originals, range(len(originals)))\n",
    "corpus = bald_latin.remove_serbian_accents(corpus)\n",
    "\n",
    "# labels as a numpy array\n",
    "labels = np.array([int(float(x)) for x in labels])"
   ]
  },
  {
   "cell_type": "markdown",
   "metadata": {},
   "source": [
    "## Vectorize each comment.\n",
    "Remove stop words and perform TF-IDF on the comments. Convert the sparse matrix to a dense one."
   ]
  },
  {
   "cell_type": "code",
   "execution_count": 5,
   "metadata": {
    "collapsed": true
   },
   "outputs": [],
   "source": [
    "croatian_stop_words = set([u\"a\",u\"ako\",u\"ali\",u\"bi\",u\"bih\",u\"bila\",u\"bili\",u\"bilo\",u\"bio\",u\"bismo\",u\"biste\",u\"biti\",u\"bumo\",u\"da\",u\"do\",u\"duž\",u\"ga\",u\"hoće\",u\"hoćemo\",u\"hoćete\",u\"hoćeš\",u\"hoću\",u\"i\",u\"iako\",u\"ih\",u\"ili\",u\"iz\",u\"ja\",u\"je\",u\"jedna\",u\"jedne\",u\"jedno\",u\"jer\",u\"jesam\",u\"jesi\",u\"jesmo\",u\"jest\",u\"jeste\",u\"jesu\",u\"jim\",u\"joj\",u\"još\",u\"ju\",u\"kada\",u\"kako\",u\"kao\",u\"koja\",u\"koje\",u\"koji\",u\"kojima\",u\"koju\",u\"kroz\",u\"li\",u\"me\",u\"mene\",u\"meni\",u\"mi\",u\"mimo\",u\"moj\",u\"moja\",u\"moje\",u\"mu\",u\"na\",u\"nad\",u\"nakon\",u\"nam\",u\"nama\",u\"nas\",u\"naš\",u\"naša\",u\"naše\",u\"našeg\",u\"ne\",u\"nego\",u\"neka\",u\"neki\",u\"nekog\",u\"neku\",u\"nema\",u\"netko\",u\"neće\",u\"nećemo\",u\"nećete\",u\"nećeš\",u\"neću\",u\"nešto\",u\"ni\",u\"nije\",u\"nikoga\",u\"nikoje\",u\"nikoju\",u\"nisam\",u\"nisi\",u\"nismo\",u\"niste\",u\"nisu\",u\"njega\",u\"njegov\",u\"njegova\",u\"njegovo\",u\"njemu\",u\"njezin\",u\"njezina\",u\"njezino\",u\"njih\",u\"njihov\",u\"njihova\",u\"njihovo\",u\"njim\",u\"njima\",u\"njoj\",u\"nju\",u\"no\",u\"o\",u\"od\",u\"odmah\",u\"on\",u\"ona\",u\"oni\",u\"ono\",u\"ova\",u\"pa\",u\"pak\",u\"po\",u\"pod\",u\"pored\",u\"prije\",u\"s\",u\"sa\",u\"sam\",u\"samo\",u\"se\",u\"sebe\",u\"sebi\",u\"si\",u\"smo\",u\"ste\",u\"su\",u\"sve\",u\"svi\",u\"svog\",u\"svoj\",u\"svoja\",u\"svoje\",u\"svom\",u\"ta\",u\"tada\",u\"taj\",u\"tako\",u\"te\",u\"tebe\",u\"tebi\",u\"ti\",u\"to\",u\"toj\",u\"tome\",u\"tu\",u\"tvoj\",u\"tvoja\",u\"tvoje\",u\"u\",u\"uz\",u\"vam\",u\"vama\",u\"vas\",u\"vaš\",u\"vaša\",u\"vaše\",u\"već\",u\"vi\",u\"vrlo\",u\"za\",u\"zar\",u\"će\",u\"ćemo\",u\"ćete\",u\"ćeš\",u\"ću\",u\"što\"])\n",
    "\n",
    "# build tf-idf vectorizer which uses unigrams and bigrams.\n",
    "# uses words with 2+ occurances as features\n",
    "vectorizer = TfidfVectorizer(\n",
    "    strip_accents=\"unicode\",\n",
    "    lowercase=True,\n",
    "    ngram_range=(1, 2),\n",
    "    min_df=2,\n",
    "    norm='l2',\n",
    "    smooth_idf=True,\n",
    "    use_idf=True,\n",
    "    stop_words=croatian_stop_words)\n",
    "\n",
    "# vectorize the text, convert to dense matrix\n",
    "X = vectorizer.fit_transform(corpus).todense()\n",
    "y = labels"
   ]
  },
  {
   "cell_type": "code",
   "execution_count": 57,
   "metadata": {
    "collapsed": false
   },
   "outputs": [
    {
     "name": "stdout",
     "output_type": "stream",
     "text": [
      "\n",
      "Fold #0\n",
      "Classification accuracy: 92.86%, comments classified: 28\n",
      "\n",
      "\n",
      "Classified as 'bot', label is 'not', comment: \n",
      "coveku je puklo zato sto je pravda u ovoj zemlji korumpirana to znam iz licnog iskustva\n",
      "\n",
      "Classified as 'bot', label is 'not', comment: \n",
      "Odakle vama dokaz da je nesto plagijat. Ne mora da znaci da ako je neko zavrsio Nezbit da je glup, vec ovakvo kritikovanje govori vise o vama.\n",
      "\n",
      "\n",
      "Fold #1\n",
      "Classification accuracy: 92.59%, comments classified: 27\n",
      "\n",
      "\n",
      "Classified as 'bot', label is 'not', comment: \n",
      "Zovite vas NATO sad kad ste im dali sve moguce povlastice! Rusi treba da sede skrstenih ruku sad i da se smeju. Al nece,braca to ne rade.\n",
      "\n",
      "Classified as 'bot', label is 'not', comment: \n",
      "Onaj ko ne radi dobro treba da bude zamenjen.Bitno je da premijer ima volju za promene.\n",
      "\n",
      "\n",
      "Fold #2\n",
      "Classification accuracy: 95.45%, comments classified: 22\n",
      "\n",
      "\n",
      "Classified as 'bot', label is 'not', comment: \n",
      "Cim ga ljudi vide pa kako ne bih bili ogorceni sve upropastio u Vojvodini\n",
      "\n",
      "\n",
      "Fold #3\n",
      "Classification accuracy: 100.00%, comments classified: 37\n",
      "\n",
      "\n",
      "\n",
      "Fold #4\n",
      "Classification accuracy: 93.55%, comments classified: 31\n",
      "\n",
      "\n",
      "Classified as 'bot', label is 'not', comment: \n",
      "Posle izbora postaju istorija.\n",
      "\n",
      "Classified as 'bot', label is 'not', comment: \n",
      "samo hrabri ljudi rade ovako kako je premijer uradio sve je srezao zarad boljeg sutra.\n",
      "\n",
      "\n",
      "Fold #5\n",
      "Classification accuracy: 95.65%, comments classified: 23\n",
      "\n",
      "\n",
      "Classified as 'bot', label is 'not', comment: \n",
      "I EU je obecala novcanu pomoc.\n",
      "\n",
      "\n",
      "Fold #6\n",
      "Classification accuracy: 90.91%, comments classified: 22\n",
      "\n",
      "\n",
      "Classified as 'bot', label is 'not', comment: \n",
      "...kako ne moze kad je premijer rekao da mozemo...?\n",
      "\n",
      "Classified as 'bot', label is 'not', comment: \n",
      "Vučiću,vređaš mi inteligenciju!\n",
      "\n",
      "\n",
      "Fold #7\n",
      "Classification accuracy: 96.77%, comments classified: 31\n",
      "\n",
      "\n",
      "Classified as 'bot', label is 'not', comment: \n",
      "dijalog mladi sa stavom imaju velike sanse,studenti su uvek imali veliku moc\n",
      "\n",
      "\n",
      "Fold #8\n",
      "Classification accuracy: 96.15%, comments classified: 26\n",
      "\n",
      "\n",
      "Classified as 'bot', label is 'not', comment: \n",
      "@Yika Petrović će biti smenjen i oštro sankcionisan ako se dokaže da je ovo istina\n",
      "\n",
      "\n",
      "Fold #9\n",
      "Classification accuracy: 100.00%, comments classified: 31\n",
      "\n",
      "\n"
     ]
    }
   ],
   "source": [
    "cutoff = 0.85\n",
    "\n",
    "k_fold = KFold(X.shape[0], n_folds=10, shuffle=True)\n",
    "for fold_count, (train, test) in enumerate(k_fold):\n",
    "    X_train = X[train]\n",
    "    y_train = labels[train]\n",
    "    X_test = X[test] \n",
    "    y_test = labels[test]\n",
    "    # original comments for the test set\n",
    "    comments_test = [originals[x] for x in test]\n",
    "    \n",
    "    # create and fit the classifier\n",
    "    clf = MultinomialNB().fit(X_train, y_train)\n",
    "    # predict probabilities on the test set\n",
    "    proba = clf.predict_proba(X_test)[:, 1]\n",
    "    \n",
    "    # get the classification error\n",
    "    indices = np.logical_or(proba >= cutoff, proba <= 1 - cutoff)\n",
    "    accuracy = np.mean(np.round(proba[indices]) == y_test[indices]) * 100.0\n",
    "    count = np.sum(indices)\n",
    "    print \"\\nFold #%d\" % fold_count\n",
    "    print \"Classification accuracy: {:.2f}%, comments classified: {}\\n\\n\".format(accuracy, count)\n",
    "    \n",
    "    # print out misclassified comments\n",
    "    for prob, label, text in zip(proba, y_test, originals):\n",
    "        # only take into account comments with high classification certainty.\n",
    "        # probability must fall in range [0, 1-cutoff] or [cutoff, 1] for the classification to be taken into account.\n",
    "        if prob >= cutoff or prob <= 1 - cutoff:\n",
    "            # if the comment is misclassified, print it\n",
    "            if np.round(prob) != label:\n",
    "                cls = \"bot\" if prob > 0.5 else \"not\"\n",
    "                real = \"bot\" if label > 0.5 else \"not\"\n",
    "                \n",
    "                print \"Classified as '%s', label is '%s', comment: \\n%s\" % (cls, real, text)\n",
    "\n",
    "    \n"
   ]
  },
  {
   "cell_type": "code",
   "execution_count": null,
   "metadata": {
    "collapsed": true
   },
   "outputs": [],
   "source": []
  }
 ],
 "metadata": {
  "kernelspec": {
   "display_name": "Python 2",
   "language": "python",
   "name": "python2"
  },
  "language_info": {
   "codemirror_mode": {
    "name": "ipython",
    "version": 2
   },
   "file_extension": ".py",
   "mimetype": "text/x-python",
   "name": "python",
   "nbconvert_exporter": "python",
   "pygments_lexer": "ipython2",
   "version": "2.7.6"
  }
 },
 "nbformat": 4,
 "nbformat_minor": 0
}
