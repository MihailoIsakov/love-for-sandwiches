{
 "cells": [
  {
   "cell_type": "markdown",
   "metadata": {},
   "source": [
    "# Love for sandwiches\n",
    "## Visualization of the data gathered through [Lovac na sendiče](https://chrome.google.com/webstore/detail/lovac-na-sendvi%C4%8De/cebplboeldmlomimakpfhbhojajdpaki)\n",
    "\n",
    "In this notebook I will explore the data I've gathered.<br>\n",
    "My main focus is extracting the valid reactions to comments sent in by the user.<br>\n",
    "<br>\n",
    "The goal of this code is to figure out the couple of users that yield consistent reactions but still maintain a large percentage of the overall results. As we can see from the data, the large majority of the users only create a couple of reactions, and can be discarded as their answers cannot be easily validated."
   ]
  },
  {
   "cell_type": "code",
   "execution_count": 8,
   "metadata": {
    "collapsed": false
   },
   "outputs": [],
   "source": [
    "%matplotlib inline\n",
    "import matplotlib.pyplot as plt\n",
    "import numpy as np\n",
    "import networkx as nx\n",
    "import graphviz\n",
    "from networkx import draw_spring as draw\n",
    "\n",
    "from pymongo import MongoClient\n",
    "client = MongoClient()\n",
    "\n",
    "blic = client.blic\n",
    "b92 = client.b92\n",
    "n1 = client.n1"
   ]
  },
  {
   "cell_type": "code",
   "execution_count": 65,
   "metadata": {
    "collapsed": true
   },
   "outputs": [],
   "source": [
    "RED = '\\033[91m'\n",
    "BOLD = '\\033[1m'\n",
    "END = '\\033[0m'"
   ]
  },
  {
   "cell_type": "code",
   "execution_count": 9,
   "metadata": {
    "collapsed": false
   },
   "outputs": [],
   "source": [
    "blic_comments = list(blic.comments.find())\n",
    "b92_comments = list(b92.comments.find())\n",
    "n1_comments = list(n1.comments.find())\n",
    "\n",
    "blic_reactions = list(blic.reactions.find())\n",
    "b92_reactions = list(b92.reactions.find())\n",
    "n1_reactions = list(n1.reactions.find())\n",
    "\n",
    "all_comments = blic_comments + b92_comments + n1_comments\n",
    "all_reactions = blic_reactions + b92_reactions + n1_reactions\n",
    "\n",
    "# Comment dictionary with comment_id's as indices\n",
    "comments_dict = {}\n",
    "for comment in all_comments:\n",
    "    # FIXME: For some reason multiple same comments pop up. \n",
    "    comment['reactions'] = []\n",
    "    comments_dict[comment['comment_id']] = comment\n",
    "    \n",
    "# Add the reactions to each comment\n",
    "for reaction in all_reactions:\n",
    "    if reaction['comment_id'] not in comments_dict:\n",
    "#         print(\"Missing comment with ID: %s\" % reaction['comment_id'])\n",
    "        pass\n",
    "    else:\n",
    "        comments_dict[reaction['comment_id']]['reactions'].append(reaction)    "
   ]
  },
  {
   "cell_type": "markdown",
   "metadata": {},
   "source": [
    "# Broj komentara:"
   ]
  },
  {
   "cell_type": "code",
   "execution_count": 10,
   "metadata": {
    "collapsed": false
   },
   "outputs": [
    {
     "name": "stdout",
     "output_type": "stream",
     "text": [
      "Blic: 3629\n",
      "B92: 2231\n",
      "N1: 511\n",
      "Ukupno: 6371\n"
     ]
    }
   ],
   "source": [
    "print(\"Blic: %s\" % blic.comments.count())\n",
    "print(\"B92: %s\" % b92.comments.count())\n",
    "print(\"N1: %s\" % n1.comments.count())\n",
    "print(\"Ukupno: %s\" % len(all_comments))"
   ]
  },
  {
   "cell_type": "markdown",
   "metadata": {},
   "source": [
    "# Broj korisnika:"
   ]
  },
  {
   "cell_type": "code",
   "execution_count": 11,
   "metadata": {
    "collapsed": false
   },
   "outputs": [
    {
     "name": "stdout",
     "output_type": "stream",
     "text": [
      "Blic: 482 \n",
      "B92: 140 \n",
      "N1: 49 \n",
      "Ukupan broj korisnika na sva 3 sajta: 572\n"
     ]
    }
   ],
   "source": [
    "print(\"Blic: %s \" % len(blic.reactions.distinct('userid')))\n",
    "print(\"B92: %s \" % len(b92.reactions.distinct('userid')))\n",
    "print(\"N1: %s \" % len(n1.reactions.distinct('userid')))\n",
    "\n",
    "user_ids = set()\n",
    "for reaction in all_reactions:\n",
    "    user_ids.add(reaction['userid'])\n",
    "    \n",
    "print(\"Ukupan broj korisnika na sva 3 sajta: %s\" % len(user_ids))"
   ]
  },
  {
   "cell_type": "markdown",
   "metadata": {
    "collapsed": false
   },
   "source": [
    "# Broj reakcija po komentaru"
   ]
  },
  {
   "cell_type": "code",
   "execution_count": 57,
   "metadata": {
    "collapsed": false
   },
   "outputs": [
    {
     "data": {
      "image/png": "[encoded data removed]",
      "text/plain": [
       "<matplotlib.figure.Figure at 0x7f997bd32c50>"
      ]
     },
     "metadata": {},
     "output_type": "display_data"
    }
   ],
   "source": [
    "x = [len(x['reactions']) for x in all_comments]\n",
    "\n",
    "plt.figure(figsize=(10,4))\n",
    "n, bins, patches = plt.hist(x, range(1,30))\n",
    "\n",
    "plt.xlabel('Broj komentara')\n",
    "plt.ylabel('Broj reakcija po komentaru')\n",
    "plt.yscale('log')\n",
    "plt.title('Broj reakcija po komentaru')\n",
    "plt.show()"
   ]
  },
  {
   "cell_type": "markdown",
   "metadata": {},
   "source": [
    "## Histogram dužina komentara"
   ]
  },
  {
   "cell_type": "code",
   "execution_count": 49,
   "metadata": {
    "collapsed": false
   },
   "outputs": [
    {
     "data": {
      "image/png": "[encoded data removed]",
      "text/plain": [
       "<matplotlib.figure.Figure at 0x7f9981294310>"
      ]
     },
     "metadata": {},
     "output_type": "display_data"
    },
    {
     "name": "stdout",
     "output_type": "stream",
     "text": [
      "Najduži komentar (2528 karaktera): \n",
      "Istinu koju niko neće da objavi niti da preduzme mere kako bi sve stranke potpisale dokument koji bi bio obavezan da se usvoji odnosno donese zakon nakon izbora, bez obzira ko formirao vlast.Tim zakonom bi nakon smanjenja broja zaposlenih u javnim preduzećima išla komisija sastavljena od ... Proširi svevlasti ,opozicije i nestranačkih ljudi.Ta komisija bi proveravala  da li su izmišljena partijska mesta  zadržania,da li su potrebni radnici dobili otkaz......Ukoliko bi se utvrdilo da je tako, u roku od 3 meseca ispraviti nedostatak.Ukoliko se nepreduzme nešto po ovom pitanju Srbija ide u pravcu još jačeg partijskog zapošljavanja.Članska karta ima veći značaj od radne knjižice odnosno od sposobnosti,znanja i poštenja radnika.Većina ljudi koji su nepošteni učlanjeni su u neku stranku kako bi imali prednost, odnosno primali platu iz budžeta za svoj nerad.Ova trenutna opozicija se neprotivi jer i oni su deo sistema,Oko 2/3 vrha u svim  stranakama prima platu iz budžeta ili u opštini,javnim i državnim preduzećima,tako da oni nece da menjaju odnosno ukinu sebi privilegije.Sva ta izmišljena radna partijska mesta sa platom iz budžeta preko 50 000 dinara uništavaju ekonomiju Srbije.Istina da ova vlast je počela reforme smanjenja broja zaposlenih ,odnosno viška radnika u javnim preduzećima.Međutim pošto smo  nažalost partijska država to otpuštanje u većini tih preduzeća neće obuhvatiti članove stranaka ni sa vlasti i opozicije.Ovim će merama dobiti otkaze pošteni ljudi koji nisu članovi stranaka i to oni koji rade u toj firmi,dok izmišljeni kancelarijski partijski paraziti će ostati kako u bolnicama,školama,pri vojsci,u EPS-u,Srbija gasu .....  Srbija treba samo da promeni unutrašnji sistem pogleda u ekonomiju.Ako se nastavi ovako nece imati ko da brani ekonomiju jer stranački misle na svoje dobre plate iz budžeta dok stranci dobijaju sve uspešne firme.Uskoro vlada nece imati mehanizme kako da popuni budzet i isplati mesečne plate za radnike pod budzetom.Stranim kompani.odgovara ovakav sistem jer kad ostvare da dobiju monopol na energiju ,hranu,izvore vode,obradivu zemlju ,rude plaćaće porez na Kipru a žito,kukuruz... će slati u svoju državu.Niko neće moći da ih uslovi da to ostane u Srbiji jer je privatno vlasništvo.Pokret Dosta je bilo Sasa Radulović  hoće samo da ukine privileg političarima i njihovim porodicama a da zaštiti sve radnike odnosno domaću ekonomiju.Posle donošenja tog zakona ako hoćete neka vlada i vaš idol od političara,ali ovo je neophodno zbog svih ljudi u Srbiji. \n",
      "\t\t\t\t Skupi\n"
     ]
    }
   ],
   "source": [
    "lens = []\n",
    "for comment in all_comments:\n",
    "    if comment['comment'] is None:\n",
    "        comment['comment'] = \"\"\n",
    "    lens.append(len(comment['comment']))\n",
    "       \n",
    "plt.figure(figsize=(16,10))\n",
    "n, bins, patches = plt.hist(lens, range(1, 1000))\n",
    "plt.xlabel(u'Dužina komentara')\n",
    "plt.ylabel(u'Broj komentara sa ovom dužinom')\n",
    "plt.title(u'Količina komentara određene dužine')\n",
    "plt.show()\n",
    "\n",
    "idx_max = np.argmax(lens)\n",
    "print(\"Najduži komentar (%s karaktera): \" % len(all_comments[idx_max]['comment']))\n",
    "print(all_comments[idx_max]['comment'])\n"
   ]
  },
  {
   "cell_type": "code",
   "execution_count": 84,
   "metadata": {
    "collapsed": false
   },
   "outputs": [
    {
     "name": "stdout",
     "output_type": "stream",
     "text": [
      "\u001b[1;31mBot: 27, not: 0\u001b[0m\n",
      "Brze, pametne odluke nase Vlade su za pohvalu.\n",
      "\n",
      "\u001b[1;31mBot: 26, not: 0\u001b[0m\n",
      "upravo to,ljudski zivot nema cenu, svaka cast nasoj vladi!!!\n",
      "\n",
      "\u001b[1;31mBot: 25, not: 0\u001b[0m\n",
      "test\n",
      "\n",
      "\u001b[1;31mBot: 1, not: 24\u001b[0m\n",
      "Gde ti vidis brzinu i razum kad je pola Srbije polavljeno ?\n",
      "Sta uradise sa parama koje su dobili 2012 godine ?\n",
      "\n",
      "\u001b[1;31mBot: 24, not: 0\u001b[0m\n",
      "Samo uz paljivo slusanje mera predostroznosti mozemo pobediti ovu bitku.\n",
      "\n",
      "\u001b[1;31mBot: 0, not: 23\u001b[0m\n",
      "Vrhunac licemerja je reci nekom da cisti kanal ispred svoje kuce i da ce se srusiti sve kuce napravljene u nebranjenim podrucjima kad Predsednik Drzave ima kucerinu u zabranjenom podrucju Save, kod bloka 45 NELEGALNO napravljenu! A sto se tice osiguranja, pa naravno da se ljudi ne osiguravaju ... Proširi svekad im je SNS uzela i uzima i zadnji dinar iz dzepa.... \n",
      "\t\t\t\t Skupi\n",
      "\n",
      "\u001b[1;31mBot: 0, not: 23\u001b[0m\n",
      "Jadni botovi, da ih gazda nije poslao da spasavate Srbiju (ha,ha), pa ne postizu da daju pluseve na svoje komentare.\n",
      "\n",
      "\u001b[1;31mBot: 0, not: 23\u001b[0m\n",
      "Narod trazi da se javno iznesu podaci i dokazi gde su otisle pare namenjene za obnovu od poplava 2014?Dokle da cutimo?Ajde AV da te vidimo.\n",
      "\n",
      "\u001b[1;31mBot: 22, not: 0\u001b[0m\n",
      "Situacija je i više nego ozbiljna. Ohrabrujuće je to što se deluje brzo i razumno!\n",
      "\n"
     ]
    }
   ],
   "source": [
    "popularity = []\n",
    "for comment in all_comments:\n",
    "    popularity.append(len(comment['reactions']))\n",
    "    \n",
    "sort_idx = np.argsort(popularity)\n",
    "for i in range(1,10):\n",
    "    comment = all_comments[sort_idx[-i]]\n",
    "    bots = 0; nots = 0\n",
    "    for reaction in comment['reactions']:\n",
    "        if reaction['bot'] == 'true':\n",
    "            bots += 1\n",
    "        else:\n",
    "            nots += 1\n",
    "\n",
    "    print '\\x1b[1;31m'+\"Bot: %s, not: %s\" % (bots, nots)+'\\x1b[0m'\n",
    "#     print \"Bot: %s, not: %s\" % (bots, nots)\n",
    "    print comment['comment']\n",
    "    print \"\""
   ]
  },
  {
   "cell_type": "code",
   "execution_count": 58,
   "metadata": {
    "collapsed": false
   },
   "outputs": [],
   "source": [
    "# comment_rnum = [len(comment['reactions']) for comment in all_comments]\n",
    "# comment_rnum = np.array(comment_rnum)\n",
    "# idx_best_10 = np.argsort(comment_rnum)[10:]\n",
    "# for idx in idx_best_10:\n",
    "#     print 'Komentar %s' % idx\n",
    "#     print(all_comments[idx]['comment'])\n",
    "#     for reaction in all_comments[idx]['reactions']:\n",
    "#         print reaction['bot']"
   ]
  },
  {
   "cell_type": "markdown",
   "metadata": {},
   "source": [
    "# Broj reakcija po korisniku"
   ]
  },
  {
   "cell_type": "code",
   "execution_count": 13,
   "metadata": {
    "collapsed": false
   },
   "outputs": [
    {
     "data": {
      "image/png": "[encoded data removed]",
      "text/plain": [
       "<matplotlib.figure.Figure at 0x7f998dfe49d0>"
      ]
     },
     "metadata": {},
     "output_type": "display_data"
    }
   ],
   "source": [
    "users_dict = {user: {'bot':0, 'not':0} for user in user_ids}\n",
    "\n",
    "for reaction in all_reactions: \n",
    "    user_id = reaction['userid']\n",
    "    \n",
    "    if reaction['bot'] == u'false':\n",
    "        users_dict[user_id]['not'] += 1\n",
    "    elif reaction['bot'] == u'true':\n",
    "        users_dict[user_id]['bot'] += 1\n",
    "\n",
    "bots = list(user['bot'] for user in users_dict.values())\n",
    "nots = list(user['not'] for user in users_dict.values())\n",
    "\n",
    "plt.figure(figsize=(16,10))\n",
    "\n",
    "n, bins, patches = plt.hist([bots, nots], range(1,100), color=['red', 'green'], alpha=0.7, stacked=True)\n",
    "\n",
    "# plt.xlabel('Broj komentara')\n",
    "# plt.ylabel('Broj reakcija po komentaru')\n",
    "# plt.title('Broj reakcija po komentaru')\n",
    "# plt.show()"
   ]
  },
  {
   "cell_type": "code",
   "execution_count": null,
   "metadata": {
    "collapsed": false
   },
   "outputs": [],
   "source": [
    "bots = [user['bot'] for user in users_dict.values()]\n",
    "nots = [user['not'] for user in users_dict.values()]\n",
    "botnot = [(bots[i], nots[i]) for i in range(len(bots))]\n",
    "x = []\n",
    "y = []\n",
    "area = []\n",
    "\n",
    "while len(botnot) > 0:\n",
    "    bn = botnot[0]\n",
    "    x.append(bn[0]), y.append(bn[1])\n",
    "    area.append(botnot.count(bn))\n",
    "    for i in range(botnot.count(bn)):\n",
    "        botnot.remove(bn)\n",
    "\n",
    "colors = np.random.rand(len(x))\n",
    "area = np.array(area)\n",
    "min_width = np.pi * 5 ** 2\n",
    "area = (area ** 2) * min_width\n",
    "\n",
    "plt.figure(figsize=(16,10))\n",
    "fig = plt.scatter(x, y, s=area, c=colors, alpha=0.7)\n",
    "\n",
    "# labels\n",
    "plt.title(u\"Broj bot i ne bot reakcija induvidualnih korisnika\")\n",
    "plt.xlabel(u\"Broj komentara označenih kao BOT!\")\n",
    "plt.ylabel(u\"Broj komentara označenih kao ne bot\")\n",
    "\n",
    "# # log scale\n",
    "plt.yscale('log')\n",
    "plt.xscale('log')\n",
    "plt.ylim(0.8, 1000)\n",
    "plt.xlim(0.8, 1000)\n",
    "\n",
    "# # Majka\n",
    "xm = max(bots)\n",
    "ym = max(nots)\n",
    "plt.annotate(\n",
    "    \"Moja mama, najaktivniji korisnik\", \n",
    "    xy = (xm, ym), xytext = (20, 20),\n",
    "    textcoords = 'offset points', ha = 'right', va = 'bottom',\n",
    "    bbox = dict(boxstyle = 'round,pad=0.5', fc = 'yellow', alpha = 0.5),\n",
    "    arrowprops = dict(arrowstyle = '->', connectionstyle = 'arc3,rad=0'))\n",
    "\n",
    "plt.show()"
   ]
  },
  {
   "cell_type": "markdown",
   "metadata": {},
   "source": [
    "# TreeMap korisnika\n",
    "# Graf korisnika sa slajderom.\n",
    "### Node-ovi su korisnici. Korisnici koji su komentarisali na X istih komentara su povezani."
   ]
  },
  {
   "cell_type": "code",
   "execution_count": null,
   "metadata": {
    "collapsed": false
   },
   "outputs": [],
   "source": [
    "def build_similarity_matrix(all_reactions, min_reactions=5):\n",
    "    user_reactions = dict()\n",
    "\n",
    "    # attach reactions to its user\n",
    "    for reaction in all_reactions:\n",
    "        id = reaction['userid']\n",
    "        if id not in user_reactions:\n",
    "            user_reactions[id] = set([reaction['comment_id']])\n",
    "        else:\n",
    "            user_reactions[id].add(reaction['comment_id'])\n",
    "            \n",
    "    cleaned_users = dict()\n",
    "    for user_id in user_reactions:\n",
    "        if len(user_reactions[user_id]) >= min_reactions:\n",
    "            cleaned_users[user_id] = user_reactions[user_id]\n",
    "    \n",
    "    user_reactions = cleaned_users\n",
    "    \n",
    "    # compare reaction sets of every two users\n",
    "    user_matrix = np.zeros((len(user_reactions), len(user_reactions)))\n",
    "    for fidx, first_reactions in enumerate(user_reactions.values()):\n",
    "        for sidx, second_reactions in enumerate(user_reactions.values()):\n",
    "            overlap = first_reactions.intersection(second_reactions)\n",
    "            user_matrix[fidx, sidx] = len(overlap)\n",
    "\n",
    "    # clear the main diagonal\n",
    "    for i in range(len(user_matrix)):\n",
    "        user_matrix[i, i] = 0\n",
    "    \n",
    "    return user_matrix, user_reactions\n",
    "\n",
    "    \n",
    "# Draw the similarity matrix for all users\n",
    "sm0, _ = build_similarity_matrix(all_reactions, min_reactions=0)\n",
    "fig, ax = plt.subplots(figsize=(10, 10))\n",
    "res = ax.imshow(sm0, cmap=\"plasma\")\n",
    "plt.colorbar(res)\n",
    "    \n",
    "# Draw the similarity matrix for users with at least X reactions\n",
    "sm20, _ = build_similarity_matrix(all_reactions, min_reactions=20)\n",
    "fig, ax = plt.subplots(figsize=(10, 10))\n",
    "res = ax.imshow(sm20, cmap=\"plasma\")\n",
    "plt.colorbar(res)"
   ]
  },
  {
   "cell_type": "code",
   "execution_count": null,
   "metadata": {
    "collapsed": true
   },
   "outputs": [],
   "source": [
    "def remove_zero_lines(matrix):\n",
    "    matrix = matrix[:,~np.all(matrix==0, axis=0)]\n",
    "    matrix = matrix[~np.all(matrix==0, axis=1)]\n",
    "    return matrix"
   ]
  },
  {
   "cell_type": "code",
   "execution_count": null,
   "metadata": {
    "collapsed": false,
    "scrolled": true
   },
   "outputs": [],
   "source": [
    "min_reactions = 1\n",
    "min_intersect = 1\n",
    "\n",
    "sm, users_dict = build_similarity_matrix(all_reactions, min_reactions=min_reactions)\n",
    "edge_matrix = (sm >= min_intersect) * 1\n",
    "G = nx.DiGraph(edge_matrix)\n",
    "\n",
    "labels = {}\n",
    "for idx, user in enumerate(users_dict):\n",
    "    if user == \"11111111\":\n",
    "        labels[idx] = u\"\\n\\nKreten koji mi\\nčačka REST endpoint-e\"\n",
    "\n",
    "\n",
    "fig, ax = plt.subplots(figsize=(15, 15))\n",
    "draw(G, show=\"ipynb\", ax=ax,\n",
    "    weight=sm,\n",
    "    iterations=200,\n",
    "    arrows=False,\n",
    "    node_size=40,\n",
    "#     line_widths=1,\n",
    "    labels=labels,\n",
    "    font_size=20,\n",
    "    alpha=0.1)\n",
    "\n",
    "_ = plt.title(\"Korisnici koji su odgovorili na najmanje min_reactions istih reakcija su povezani\\\n",
    " i reagovali su najmanje min_intersect istih komentara\")"
   ]
  },
  {
   "cell_type": "code",
   "execution_count": null,
   "metadata": {
    "collapsed": false
   },
   "outputs": [],
   "source": [
    "min_reactions = 1\n",
    "min_intersect = 10\n",
    "\n",
    "sm, users_dict = build_similarity_matrix(all_reactions, min_reactions=min_reactions)\n",
    "edge_matrix = (sm >= min_intersect) * 1\n",
    "edge_matrix = remove_zero_lines(edge_matrix)\n",
    "G = nx.DiGraph(edge_matrix)\n",
    "\n",
    "fig, ax = plt.subplots(figsize=(15, 15))\n",
    "draw(G, show=\"ipynb\", ax=ax,\n",
    "    width=2,\n",
    "    iterations=200,\n",
    "    arrows=False,\n",
    "    node_size=40,\n",
    "    alpha=0.6)\n",
    "\n",
    "_ = plt.title(\"Korisnici koji su odgovorili na najmanje min_reactions istih reakcija su povezani\\\n",
    " i reagovali su najmanje min_intersect istih komentara\")"
   ]
  }
 ],
 "metadata": {
  "kernelspec": {
   "display_name": "Python 2",
   "language": "python",
   "name": "python2"
  },
  "language_info": {
   "codemirror_mode": {
    "name": "ipython",
    "version": 2
   },
   "file_extension": ".py",
   "mimetype": "text/x-python",
   "name": "python",
   "nbconvert_exporter": "python",
   "pygments_lexer": "ipython2",
   "version": "2.7.6"
  }
 },
 "nbformat": 4,
 "nbformat_minor": 0
}
