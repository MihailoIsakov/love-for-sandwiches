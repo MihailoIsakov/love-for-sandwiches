{
 "cells": [
  {
   "cell_type": "code",
   "execution_count": 3,
   "metadata": {
    "collapsed": false
   },
   "outputs": [],
   "source": [
    "%matplotlib inline\n",
    "import matplotlib.pyplot as plt\n",
    "import numpy as np\n",
    "\n",
    "from pymongo import MongoClient\n",
    "client = MongoClient()\n",
    "\n",
    "blic = client.blic\n",
    "b92 = client.b92\n",
    "n1 = client.n1"
   ]
  },
  {
   "cell_type": "code",
   "execution_count": 4,
   "metadata": {
    "collapsed": false
   },
   "outputs": [
    {
     "name": "stdout",
     "output_type": "stream",
     "text": [
      "Missing comment with ID: k19765353\n",
      "Missing comment with ID: k19765340\n",
      "Missing comment with ID: k19765405\n",
      "Missing comment with ID: k19765399\n"
     ]
    }
   ],
   "source": [
    "blic_comments = list(blic.comments.find())\n",
    "b92_comments = list(b92.comments.find())\n",
    "n1_comments = list(n1.comments.find())\n",
    "\n",
    "blic_reactions = list(blic.reactions.find())\n",
    "b92_reactions = list(b92.reactions.find())\n",
    "n1_reactions = list(n1.reactions.find())\n",
    "\n",
    "all_comments = blic_comments + b92_comments + n1_comments\n",
    "all_reactions = blic_reactions + b92_reactions + n1_reactions\n",
    "\n",
    "# Comment dictionary with comment_id's as indices\n",
    "comments_dict = {}\n",
    "for comment in all_comments:\n",
    "    # FIXME: For some reason multiple same comments pop up. \n",
    "    comment['reactions'] = []\n",
    "    comments_dict[comment['comment_id']] = comment\n",
    "    \n",
    "# Add the reactions to each comment\n",
    "for reaction in all_reactions:\n",
    "    if reaction['comment_id'] not in comments_dict:\n",
    "        print(\"Missing comment with ID: %s\" % reaction['comment_id'])\n",
    "    else:\n",
    "        comments_dict[reaction['comment_id']]['reactions'].append(reaction)    "
   ]
  },
  {
   "cell_type": "markdown",
   "metadata": {},
   "source": [
    "# Broj komentara:"
   ]
  },
  {
   "cell_type": "code",
   "execution_count": 5,
   "metadata": {
    "collapsed": false
   },
   "outputs": [
    {
     "name": "stdout",
     "output_type": "stream",
     "text": [
      "Blic: 3629\n",
      "B92: 2231\n",
      "N1: 511\n",
      "Ukupno: 6371\n"
     ]
    }
   ],
   "source": [
    "print(\"Blic: %s\" % blic.comments.count())\n",
    "print(\"B92: %s\" % b92.comments.count())\n",
    "print(\"N1: %s\" % n1.comments.count())\n",
    "print(\"Ukupno: %s\" % len(all_comments))"
   ]
  },
  {
   "cell_type": "markdown",
   "metadata": {},
   "source": [
    "# Broj korisnika:"
   ]
  },
  {
   "cell_type": "code",
   "execution_count": 6,
   "metadata": {
    "collapsed": false
   },
   "outputs": [
    {
     "name": "stdout",
     "output_type": "stream",
     "text": [
      "Blic: 482 \n",
      "B92: 140 \n",
      "N1: 49 \n",
      "Ukupan broj korisnika na sva 3 sajta: 572\n"
     ]
    }
   ],
   "source": [
    "print(\"Blic: %s \" % len(blic.reactions.distinct('userid')))\n",
    "print(\"B92: %s \" % len(b92.reactions.distinct('userid')))\n",
    "print(\"N1: %s \" % len(n1.reactions.distinct('userid')))\n",
    "\n",
    "users = set()\n",
    "for reaction in all_reactions:\n",
    "    users.add(reaction['userid'])\n",
    "    \n",
    "print(\"Ukupan broj korisnika na sva 3 sajta: %s\" % len(users))"
   ]
  },
  {
   "cell_type": "markdown",
   "metadata": {
    "collapsed": false
   },
   "source": [
    "# Broj reakcija po komentaru"
   ]
  },
  {
   "cell_type": "code",
   "execution_count": 7,
   "metadata": {
    "collapsed": false
   },
   "outputs": [
    {
     "data": {
      "image/png": "[encoded data removed]",
      "text/plain": [
       "<matplotlib.figure.Figure at 0x7f001c49fd90>"
      ]
     },
     "metadata": {},
     "output_type": "display_data"
    }
   ],
   "source": [
    "x = [len(x['reactions']) for x in all_comments]\n",
    "\n",
    "hist, bins = np.histogram(x, bins=500)\n",
    "n, bins, patches = plt.hist(x, range(1,10))\n",
    "\n",
    "plt.xlabel('Broj komentara')\n",
    "plt.ylabel('Broj reakcija po komentaru')\n",
    "plt.title('Broj reakcija po komentaru')\n",
    "plt.show()"
   ]
  },
  {
   "cell_type": "markdown",
   "metadata": {},
   "source": [
    "# Broj reakcija po korisniku"
   ]
  },
  {
   "cell_type": "code",
   "execution_count": 8,
   "metadata": {
    "collapsed": false
   },
   "outputs": [
    {
     "data": {
      "image/png": "[encoded data removed]",
      "text/plain": [
       "<matplotlib.figure.Figure at 0x7f001c49f510>"
      ]
     },
     "metadata": {},
     "output_type": "display_data"
    }
   ],
   "source": [
    "users_dict = {user: {'bot':0, 'not':0} for user in users}\n",
    "\n",
    "for reaction in all_reactions: \n",
    "    user_id = reaction['userid']\n",
    "    \n",
    "    if reaction['bot'] == u'false':\n",
    "        users_dict[user_id]['not'] += 1\n",
    "    elif reaction['bot'] == u'true':\n",
    "        users_dict[user_id]['bot'] += 1\n",
    "\n",
    "bots = list(user['bot'] for user in users_dict.values())\n",
    "nots = list(user['not'] for user in users_dict.values())\n",
    "\n",
    "n, bins, patches = plt.hist([bots, nots], range(1,len(users_dict)), color=['red', 'green'], alpha=0.7, stacked=True)\n",
    "\n",
    "# plt.xlabel('Broj komentara')\n",
    "# plt.ylabel('Broj reakcija po komentaru')\n",
    "# plt.title('Broj reakcija po komentaru')\n",
    "# plt.show()"
   ]
  },
  {
   "cell_type": "code",
   "execution_count": null,
   "metadata": {
    "collapsed": false
   },
   "outputs": [],
   "source": [
    "bots = [user['bot'] for user in users_dict.values()]\n",
    "nots = [user['not'] for user in users_dict.values()]\n",
    "botnot = [(bots[i], nots[i]) for i in range(len(bots))]\n",
    "x = []\n",
    "y = []\n",
    "area = []\n",
    "\n",
    "while len(botnot) > 0:\n",
    "    bn = botnot[0]\n",
    "    x.append(bn[0]), y.append(bn[1])\n",
    "    area.append(botnot.count(bn))\n",
    "    for i in range(botnot.count(bn)):\n",
    "        botnot.remove(bn)\n",
    "\n",
    "colors = np.random.rand(len(x))\n",
    "print(max(area))\n",
    "min_width = np.pi * 5 ** 2\n",
    "area = np.array(area) * min_width\n",
    "area = 2 ** area\n",
    "\n",
    "\n",
    "plt.figure(figsize=(16,10))\n",
    "fig = plt.scatter(x, y, s=area, c=colors, alpha=0.7)\n",
    "\n",
    "# labels\n",
    "plt.title(u\"Broj bot i ne bot reakcija induvidualnih korisnika\")\n",
    "plt.xlabel(u\"Broj komentara označenih kao BOT!\")\n",
    "plt.ylabel(u\"Broj komentara označenih kao ne bot\")\n",
    "\n",
    "# log scale\n",
    "plt.yscale('log')\n",
    "plt.xscale('log')\n",
    "plt.ylim(0.8, 1000)\n",
    "plt.xlim(0.8, 1000)\n",
    "\n",
    "# Majka\n",
    "xm = max(bots)\n",
    "ym = max(nots)\n",
    "plt.annotate(\n",
    "    \"Moja mama, najaktivniji korisnik\", \n",
    "    xy = (xm, ym), xytext = (-20, 20),\n",
    "    textcoords = 'offset points', ha = 'right', va = 'bottom',\n",
    "    bbox = dict(boxstyle = 'round,pad=0.5', fc = 'yellow', alpha = 0.5),\n",
    "    arrowprops = dict(arrowstyle = '->', connectionstyle = 'arc3,rad=0'))\n",
    "\n",
    "\n",
    "plt.show()\n"
   ]
  }
 ],
 "metadata": {
  "kernelspec": {
   "display_name": "Python 2",
   "language": "python",
   "name": "python2"
  },
  "language_info": {
   "codemirror_mode": {
    "name": "ipython",
    "version": 2
   },
   "file_extension": ".py",
   "mimetype": "text/x-python",
   "name": "python",
   "nbconvert_exporter": "python",
   "pygments_lexer": "ipython2",
   "version": "2.7.6"
  }
 },
 "nbformat": 4,
 "nbformat_minor": 0
}
